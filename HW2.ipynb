{
 "cells": [
  {
   "cell_type": "code",
   "execution_count": null,
   "metadata": {},
   "outputs": [],
   "source": [
    "# 206 Reverse Linked List\n",
    "\n",
    "class Solution:\n",
    "    def reverseList(self, head):\n",
    "        \"\"\"\n",
    "        :type head: ListNode\n",
    "        :rtype: ListNode\n",
    "        \"\"\"\n",
    "        \n",
    "        current=head\n",
    "        prev=None\n",
    "        while current:\n",
    "            temp=current.next\n",
    "            current.next=prev\n",
    "            prev=current\n",
    "            current=temp\n",
    "            \n",
    "        return prev\n",
    "        "
   ]
  },
  {
   "cell_type": "code",
   "execution_count": null,
   "metadata": {},
   "outputs": [],
   "source": [
    "#237. Delete Node in a Linked List\n",
    "class Solution(object):\n",
    "    def deleteNode(self, node):\n",
    "        \"\"\"\n",
    "        :type node: ListNode\n",
    "        :rtype: void Do not return anything, modify node in-place instead.\n",
    "        \"\"\"\n",
    "        node.val=node.next.val\n",
    "        node.next=node.next.next"
   ]
  },
  {
   "cell_type": "code",
   "execution_count": null,
   "metadata": {},
   "outputs": [],
   "source": [
    "#21. Merge Two Sorted Lists\n",
    "class Solution(object):\n",
    "    def mergeTwoLists(self, l1, l2):\n",
    "        \"\"\"\n",
    "        :type l1: ListNode\n",
    "        :type l2: ListNode\n",
    "        :rtype: ListNode\n",
    "        \"\"\"\n",
    "        dummy = ListNode(0)\n",
    "        tmp = dummy\n",
    "        while l1 != None and l2 != None:\n",
    "            if l1.val < l2.val:\n",
    "                tmp.next = l1\n",
    "                l1 = l1.next\n",
    "            else:\n",
    "                tmp.next = l2\n",
    "                l2 = l2.next\n",
    "            tmp = tmp.next\n",
    "        if l1 != None:\n",
    "            tmp.next = l1\n",
    "        else:\n",
    "            tmp.next = l2\n",
    "        return dummy.next\n",
    "                "
   ]
  },
  {
   "cell_type": "code",
   "execution_count": null,
   "metadata": {},
   "outputs": [],
   "source": [
    "#141. Linked List Cycle\n",
    "class Solution(object):\n",
    "    def hasCycle(self, head):\n",
    "        \"\"\"\n",
    "        :type head: ListNode\n",
    "        :rtype: bool\n",
    "        \"\"\"\n",
    "        hash={}\n",
    "        while head:\n",
    "            if id(head) in hash:\n",
    "                return True\n",
    "            else:\n",
    "                hash[id(head)]=True\n",
    "                head=head.next\n",
    "        return False"
   ]
  },
  {
   "cell_type": "code",
   "execution_count": null,
   "metadata": {},
   "outputs": [],
   "source": [
    "# 234. Palindrome Linked List\n",
    "class Solution(object):\n",
    "    def isPalindrome(self, head):\n",
    "        \"\"\"\n",
    "        :type head: ListNode\n",
    "        :rtype: bool\n",
    "        \"\"\"\n",
    "        mylist=[]\n",
    "        i=0\n",
    "        while head:\n",
    "            mylist.append(head.val)\n",
    "            i+=1\n",
    "            head=head.next\n",
    "        \n",
    "            \n",
    "        for i in range(len(mylist)):\n",
    "            if mylist[i]!=mylist[len(mylist)-i-1]:\n",
    "                return False\n",
    "        return True"
   ]
  },
  {
   "cell_type": "code",
   "execution_count": null,
   "metadata": {},
   "outputs": [],
   "source": [
    "# 92. Reverse Linked List II\n",
    "class Solution:\n",
    "    def reverseBetween(self, head, m, n):\n",
    "        \"\"\"\n",
    "        :type head: ListNode\n",
    "        :type m: int\n",
    "        :type n: int\n",
    "        :rtype: ListNode\n",
    "        \"\"\"\n",
    "        \n",
    "        prev=ListNode(0)\n",
    "        prev.next=head\n",
    "        dummy=prev\n",
    "        for i in range(m-1):\n",
    "            prev=prev.next\n",
    "        cur=prev.next\n",
    "        \n",
    "        for i in range(n-m):\n",
    "            post=cur.next\n",
    "            cur.next=post.next\n",
    "            post.next=prev.next\n",
    "            prev.next=post\n",
    "        return dummy.next"
   ]
  }
 ],
 "metadata": {
  "kernelspec": {
   "display_name": "Python 3",
   "language": "python",
   "name": "python3"
  },
  "language_info": {
   "codemirror_mode": {
    "name": "ipython",
    "version": 3
   },
   "file_extension": ".py",
   "mimetype": "text/x-python",
   "name": "python",
   "nbconvert_exporter": "python",
   "pygments_lexer": "ipython3",
   "version": "3.6.5"
  }
 },
 "nbformat": 4,
 "nbformat_minor": 2
}
